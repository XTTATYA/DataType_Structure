{
  "nbformat": 4,
  "nbformat_minor": 0,
  "metadata": {
    "colab": {
      "provenance": []
    },
    "kernelspec": {
      "name": "python3",
      "display_name": "Python 3"
    },
    "language_info": {
      "name": "python"
    }
  },
  "cells": [
    {
      "cell_type": "code",
      "execution_count": null,
      "metadata": {
        "id": "XzvdQilNzPWn"
      },
      "outputs": [],
      "source": [
        "#ASSIGNMENT 2 - DATA TYPE AND STRUCTURES\n",
        "##THEORY QUESTIONS--"
      ]
    },
    {
      "cell_type": "code",
      "source": [
        "###**Q1) What are data structures, and why are they important?**\n",
        "\"\"\"\n",
        "Ans: Data structure can be defined as a container in which we can organize,manipulate and perform operations on data.\n",
        "It helps to manage data easily and helps boost system efficiency and memory. Its important due to following reasons:\n",
        "1) It helps for management and organization of data\n",
        "2) Can help in system optimization and memory management\n",
        "3) We can access data differently based on different data structures.\n",
        "4) Gives a variety of operations and searching techniques\n",
        "\"\"\"\n",
        "\n"
      ],
      "metadata": {
        "id": "l9omMEnY0NIH"
      },
      "execution_count": null,
      "outputs": []
    },
    {
      "cell_type": "code",
      "source": [
        "###**Q2) Explain the difference between mutable and immutable data types with examples?**\n",
        "\"\"\" Ans: **Mutable data types** can be defined as data structures which allows manipulation of data within a data structures after its creation.\n",
        "It allows data manipulation by using various functions such as **.appened(),.remove() etc**.\n",
        "Some examples can be a list or dictionary.Mutable collection data types are also called as Ordered collection data types.\n",
        "\"\"\"\n",
        "\"\"\"**Immutable data types** can be defined as data structures which does not allow manipulation of data within a data structures after its creation.\n",
        "It follows a strict and fixed structure without any change in data.\n",
        "Some examples can be a Sets or tuples.Immutable collection data types are also called as Unordered collection data types.\n",
        "\"\"\"\n",
        "\n"
      ],
      "metadata": {
        "id": "1reTahwA1spH"
      },
      "execution_count": null,
      "outputs": []
    },
    {
      "cell_type": "code",
      "source": [
        "###**Q3)What are the main differences between lists and tuples in Python?**\n",
        "\"\"\"\n",
        "Ans:**List** is a mutable data structure in python.\n",
        "1)It allows data to be manipulated after its creation.\n",
        "2)It allow data modification.\n",
        "3)Its also called as Ordered collection of elements.\n",
        "\"\"\"\n",
        "\"\"\"\n",
        "**Tuple** is an immutable data structure in python.\n",
        "1)It does not allow data to be manipulated after its creation.\n",
        "2)No data modification is allowed.\n",
        "3)Its also called as Unordered collection of elements.\n",
        "\"\"\"\n"
      ],
      "metadata": {
        "id": "J8htDJvs13D7"
      },
      "execution_count": null,
      "outputs": []
    },
    {
      "cell_type": "code",
      "source": [
        "###**Q4) Describe how dictionaries store data?**\n",
        "\"\"\"\n",
        "Ans: **Dictionaries** stores data in form of key:value pairs in memory.Unlike normal lists where we can access elements or values by their indexes,\n",
        "we use keys to access values in memory. But we cannot access keys through values in a dictionary.\n",
        "\"\"\"\n"
      ],
      "metadata": {
        "id": "ndZNpOAN2PFE"
      },
      "execution_count": null,
      "outputs": []
    },
    {
      "cell_type": "code",
      "source": [
        "###**Q5)  Why might you use a set instead of a list in Python?**\n",
        "\"\"\"\n",
        "Ans: **Set** is a unique data structure in python which is unordered. It means since element will not have an order, there is no index concept.\n",
        "Set does not allow duplicate value and ignores any duplicate values.\n",
        "We can also append and remove elements from a set and can use actual value to access the elements in a set.\n",
        "\"\"\"\n"
      ],
      "metadata": {
        "id": "117nE9Kc2ZNX"
      },
      "execution_count": null,
      "outputs": []
    },
    {
      "cell_type": "code",
      "source": [
        "###**Q6) What is a string in Python, and how is it different from a list?**\n",
        "\"\"\"\n",
        "Ans: **String** is a data structure which is a sequence of characters in a unchangable order.\n",
        "Which means unlike list which is a mutable data structure, A string is a immutable data structure.\n",
        "\"\"\"\n"
      ],
      "metadata": {
        "id": "Yfy1RgNx3D-5"
      },
      "execution_count": null,
      "outputs": []
    },
    {
      "cell_type": "code",
      "source": [
        "###**Q7) How do tuples ensure data integrity in Python?**\n",
        "\"\"\"\n",
        "Ans: **Tuples** ensure data integrity which refers to data security by being an immutable data structure.\n",
        "Since its immutable, it means that data cannot be modified after its creation.\n",
        "This ensure safety of important data and can be used to save important data of company which does not require any changement.\n",
        "\"\"\"\n"
      ],
      "metadata": {
        "id": "I80fxpiD3aoA"
      },
      "execution_count": null,
      "outputs": []
    },
    {
      "cell_type": "code",
      "source": [
        "###**Q8) What is a hash table, and how does it relate to dictionaries in Python?**``Important``\n",
        "\"\"\"\n",
        "Ans: A **hash table** is a data structure that stores data as key-value pairs, using a hash function to quickly find the data.\n",
        "In Python, dictionaries (`dict`) are built using hash tables, making lookups, insertions, and deletions very fast.\n",
        "Keys in a dictionary must be unique and hashable (e.g., strings, numbers).\n",
        "\"\"\"\n"
      ],
      "metadata": {
        "id": "Cmv4huYg3lYT"
      },
      "execution_count": null,
      "outputs": []
    },
    {
      "cell_type": "code",
      "source": [
        "###**Q9) Can lists contain different data types in Python?**\n",
        "\"\"\"\n",
        "Ans: **List** allows to hold hetrogenous data types. Hetrogenous data types refer to more than one data type.\n",
        "List allows to add elements within it kinda of like a shopping bag of a mother when going to market.eg:-[(1,2,3),1.23,1,\"Hi\"] etc.\n",
        "\"\"\"\n"
      ],
      "metadata": {
        "id": "nPNo9Z0D31_S"
      },
      "execution_count": null,
      "outputs": []
    },
    {
      "cell_type": "code",
      "source": [
        "###**Q10)  Explain why strings are immutable in Python?**\n",
        "\"\"\"\n",
        "Ans: **Strings** are immutable in python to ensure that sequence of characters remain in an unchangeable order and make sense.\n",
        "It is done to maintain the meaning of strings data structure. It also ensures consistency and maintainance of hash value.\n",
        "\"\"\"\n"
      ],
      "metadata": {
        "id": "hdjTRflX3-bP"
      },
      "execution_count": null,
      "outputs": []
    },
    {
      "cell_type": "code",
      "source": [
        "###**Q11) What advantages do dictionaries offer over lists for certain tasks?**\n",
        "\"\"\"\n",
        "Ans: **Dictionaries** are data types in python which stores key:value pairs in memory.\n",
        "Unlike list indexing is not required as we can access the values using their keys.\n",
        "Unlike lists which have can have duplicates, a key in a dictionary is unique and also immutable.\n",
        "\"\"\"\n"
      ],
      "metadata": {
        "id": "a46MfRtm4Lqb"
      },
      "execution_count": null,
      "outputs": []
    },
    {
      "cell_type": "code",
      "source": [
        "###**Q12)  Describe a scenario where using a tuple would be preferable over a list?**\n",
        "\"\"\"\n",
        "Ans: **Tuple** can be used by its immutability property. It can be used for a inserting company sales over a year.\n",
        "Since this data can't be changed and its factual,we can use tuple since no data modification can occur.\n",
        "\"\"\"\n"
      ],
      "metadata": {
        "id": "lumtsb-l4Vus"
      },
      "execution_count": null,
      "outputs": []
    },
    {
      "cell_type": "code",
      "source": [
        "###**Q13) How do sets handle duplicate values in Python?**\n",
        "\"\"\"\n",
        "Ans: **Sets** are a data structure in python which does not allow duplicate values within it.\n",
        "If any duplicate value occurs,it will only consider the first occurrence of the value and ignore the rest of it and not include it within the set.\n",
        "\"\"\"\n"
      ],
      "metadata": {
        "id": "KtNn0fSZ4ixt"
      },
      "execution_count": null,
      "outputs": []
    },
    {
      "cell_type": "code",
      "source": [
        "###**Q14) How does the “in” keyword work differently for lists and dictionaries?**\n",
        "\"\"\"\n",
        "Ans: The *in* keyword in lists iterates to all the values present in a list to check if a statement is present or not.\n",
        "In case of dictionaries, the *in* keyword only traverse through the keys and not the values.\n",
        "It only checks if the statement in present in keys or not.\n",
        "\"\"\"\n"
      ],
      "metadata": {
        "id": "gpNDRfeS4qlk"
      },
      "execution_count": null,
      "outputs": []
    },
    {
      "cell_type": "code",
      "source": [
        "###**Q15) Can you modify the elements of a tuple? Explain why or why not?**\n",
        "\"\"\"\n",
        "Ans: No, we cannot modify the elements in tuple.It is due to the immutability property of the tuple.\n",
        "It means no data modification can occur after the tuple creation.\n",
        "\"\"\"\n"
      ],
      "metadata": {
        "id": "zIt_IJqd5yRc"
      },
      "execution_count": null,
      "outputs": []
    },
    {
      "cell_type": "code",
      "source": [
        "###**Q16)  What is a nested dictionary, and give an example of its use case?**\n",
        "\"\"\"\n",
        "Ans: A nested dictionary can be defined as another dictionary which is defined within an existing dictionary.\n",
        "This property help for dictionary to be useful in various areas.Eg:-\n",
        "d={\"student\":{\"name\":\"Omer\",\"Age\":\"19\"}}\n",
        "\"\"\"\n"
      ],
      "metadata": {
        "id": "B4ZdlZae57VT"
      },
      "execution_count": null,
      "outputs": []
    },
    {
      "cell_type": "code",
      "source": [
        "###**Q17) Describe the time complexity of accessing elements in a dictionary?**\n",
        "\"\"\"\n",
        "Ans: The time complexity of **dictionaries** is O(1) as look up is quick through hash table or in worst case O(n) due to traverse of keys.\n",
        "\"\"\"\n"
      ],
      "metadata": {
        "id": "BBhie_o06KSR"
      },
      "execution_count": null,
      "outputs": []
    },
    {
      "cell_type": "code",
      "source": [
        "###**Q18) In what situations are lists preferred over dictionaries?**\n",
        "\"\"\"\n",
        "Ans: Dictionaries are very useful data type in python.But it has a drawback that keys are unique and immutable.\n",
        "Here is where lists take the lead has the can access elements by indexing and also is mutable, dictionaries are only mutable through values.\n",
        "\"\"\"\n"
      ],
      "metadata": {
        "id": "jaacQD7k6Vob"
      },
      "execution_count": null,
      "outputs": []
    },
    {
      "cell_type": "code",
      "source": [
        "###**Q19)  Why are dictionaries considered unordered, and how does that affect data retrieval?**\n",
        "\"\"\"\n",
        "Ans: Dictionaries are considered unordered due to the keys. Keys should be unique and immutable.\n",
        "Data in dictionaries is retrived by the keys assigned to that value and not by indexing.We can access the data in two ways,\n",
        "one by using key like *dict[key]* or by using *.get()*.\n",
        "\"\"\"\n"
      ],
      "metadata": {
        "id": "ICXbM-TB6crx"
      },
      "execution_count": null,
      "outputs": []
    },
    {
      "cell_type": "code",
      "source": [
        "###**Q20) Explain the difference between a list and a dictionary in terms of data retrieval?**\n",
        "\"\"\"\n",
        "Ans: List elements can be accessed using index concept since list elements have indexes assigned to it in memory.\n",
        " Dictionary elements can only be accessed by their keys which are unique and immutable.Unlike lists,\n",
        " these keys are assigned to the values in the memory block and can be only accessed by the keys.\n",
        " \"\"\"\n"
      ],
      "metadata": {
        "id": "lHZw5SXM6lcb"
      },
      "execution_count": null,
      "outputs": []
    },
    {
      "cell_type": "code",
      "source": [
        "#PRACTICAL QUESTIONS\n"
      ],
      "metadata": {
        "id": "at0naFee6x5I"
      },
      "execution_count": null,
      "outputs": []
    },
    {
      "cell_type": "code",
      "source": [
        "#Q1)Write a code to create a string with your name and print it\n",
        "s=str(input(\"Enter Your Name:\"))\n",
        "print(s,type(s))\n"
      ],
      "metadata": {
        "colab": {
          "base_uri": "https://localhost:8080/"
        },
        "id": "-J_lNy1c644O",
        "outputId": "fd5ebd13-3472-47b3-8ea7-49c1e73d7462"
      },
      "execution_count": 1,
      "outputs": [
        {
          "output_type": "stream",
          "name": "stdout",
          "text": [
            "Enter Your Name:Taha\n",
            "Taha <class 'str'>\n"
          ]
        }
      ]
    },
    {
      "cell_type": "code",
      "source": [
        "#Q2) Write a code to find the length of the string \"Hello World\"\n",
        "len(\"Hello World\")\n"
      ],
      "metadata": {
        "colab": {
          "base_uri": "https://localhost:8080/"
        },
        "id": "eOOnqsJc7Bol",
        "outputId": "ab46712d-5db3-4d4e-d656-3d1bfc7fc01b"
      },
      "execution_count": 2,
      "outputs": [
        {
          "output_type": "execute_result",
          "data": {
            "text/plain": [
              "11"
            ]
          },
          "metadata": {},
          "execution_count": 2
        }
      ]
    },
    {
      "cell_type": "code",
      "source": [
        "#Q3) Write a code to slice the first 3 characters from the string \"Python Programming\"\n",
        "a=\"Python Programming\"\n",
        "a[0:3]\n"
      ],
      "metadata": {
        "colab": {
          "base_uri": "https://localhost:8080/",
          "height": 35
        },
        "id": "Yq-d3O8p7GmO",
        "outputId": "4c76881f-bcd9-43ff-f661-6d5ec9b87d03"
      },
      "execution_count": 3,
      "outputs": [
        {
          "output_type": "execute_result",
          "data": {
            "text/plain": [
              "'Pyt'"
            ],
            "application/vnd.google.colaboratory.intrinsic+json": {
              "type": "string"
            }
          },
          "metadata": {},
          "execution_count": 3
        }
      ]
    },
    {
      "cell_type": "code",
      "source": [
        "#Q4) Write a code to convert the string \"hello\" to uppercase.\n",
        "a=\"hello\"\n",
        "a.upper()\n"
      ],
      "metadata": {
        "colab": {
          "base_uri": "https://localhost:8080/",
          "height": 35
        },
        "id": "E0jvUE177j1N",
        "outputId": "98864eae-04cb-4925-9687-218ebff2e080"
      },
      "execution_count": 4,
      "outputs": [
        {
          "output_type": "execute_result",
          "data": {
            "text/plain": [
              "'HELLO'"
            ],
            "application/vnd.google.colaboratory.intrinsic+json": {
              "type": "string"
            }
          },
          "metadata": {},
          "execution_count": 4
        }
      ]
    },
    {
      "cell_type": "code",
      "source": [
        "#Q5) Write a code to replace the word \"apple\" with \"orange\" in the string \"I like apple\"\n",
        "a=\"I like apple\"\n",
        "a.replace(\"apple\",\"orange\")\n"
      ],
      "metadata": {
        "colab": {
          "base_uri": "https://localhost:8080/",
          "height": 35
        },
        "id": "JFCqyKun74Wj",
        "outputId": "80229e9d-a203-415f-b666-02dd34098ea9"
      },
      "execution_count": 5,
      "outputs": [
        {
          "output_type": "execute_result",
          "data": {
            "text/plain": [
              "'I like orange'"
            ],
            "application/vnd.google.colaboratory.intrinsic+json": {
              "type": "string"
            }
          },
          "metadata": {},
          "execution_count": 5
        }
      ]
    },
    {
      "cell_type": "code",
      "source": [
        "#Q6) Write a code to create a list with numbers 1 to 5 and print it\n",
        "l=[]\n",
        "for i in range(1,6):\n",
        "  l.append(i)\n",
        "print(l)\n"
      ],
      "metadata": {
        "colab": {
          "base_uri": "https://localhost:8080/"
        },
        "id": "kHt1qeIO7-qB",
        "outputId": "51c0ede7-e457-4189-e94a-e6423185729c"
      },
      "execution_count": 6,
      "outputs": [
        {
          "output_type": "stream",
          "name": "stdout",
          "text": [
            "[1, 2, 3, 4, 5]\n"
          ]
        }
      ]
    },
    {
      "cell_type": "code",
      "source": [
        "#Q7) Write a code to append the number 10 to the list [1, 2, 3, 4]\n",
        "l=[1,2,3,4]\n",
        "l.append(10)\n",
        "print(l)\n"
      ],
      "metadata": {
        "colab": {
          "base_uri": "https://localhost:8080/"
        },
        "id": "-Ly_Vm-U8D4d",
        "outputId": "9339150a-6f42-49fb-b9d1-5bcf155ff4ed"
      },
      "execution_count": 7,
      "outputs": [
        {
          "output_type": "stream",
          "name": "stdout",
          "text": [
            "[1, 2, 3, 4, 10]\n"
          ]
        }
      ]
    },
    {
      "cell_type": "code",
      "source": [
        "#Q8) Write a code to remove the number 3 from the list [1, 2, 3, 4, 5]\n",
        "l=[1,2,3,4,5]\n",
        "l.remove(3)\n",
        "print(l)\n"
      ],
      "metadata": {
        "colab": {
          "base_uri": "https://localhost:8080/"
        },
        "id": "HesMunBf8Od6",
        "outputId": "ef1e3e4a-fcc3-43f0-a103-197c75341311"
      },
      "execution_count": 8,
      "outputs": [
        {
          "output_type": "stream",
          "name": "stdout",
          "text": [
            "[1, 2, 4, 5]\n"
          ]
        }
      ]
    },
    {
      "cell_type": "code",
      "source": [
        "#Q9) Write a code to access the second element in the list ['a', 'b', 'c', 'd']\n",
        "l=['a','b','c','d']\n",
        "l[1]\n"
      ],
      "metadata": {
        "colab": {
          "base_uri": "https://localhost:8080/",
          "height": 35
        },
        "id": "t5SENoir8T4I",
        "outputId": "1f154392-3b0a-4cc5-bab6-8b2a35e75937"
      },
      "execution_count": 9,
      "outputs": [
        {
          "output_type": "execute_result",
          "data": {
            "text/plain": [
              "'b'"
            ],
            "application/vnd.google.colaboratory.intrinsic+json": {
              "type": "string"
            }
          },
          "metadata": {},
          "execution_count": 9
        }
      ]
    },
    {
      "cell_type": "code",
      "source": [
        "#Q10) Write a code to reverse the list [10, 20, 30, 40, 50]\n",
        "l=[10,20,30,40,50]\n",
        "l.reverse()\n",
        "print(l)\n"
      ],
      "metadata": {
        "colab": {
          "base_uri": "https://localhost:8080/"
        },
        "id": "DitGibnN8XSk",
        "outputId": "006f8b93-fb11-4fd6-a8c7-1d16a17cc5ea"
      },
      "execution_count": 10,
      "outputs": [
        {
          "output_type": "stream",
          "name": "stdout",
          "text": [
            "[50, 40, 30, 20, 10]\n"
          ]
        }
      ]
    },
    {
      "cell_type": "code",
      "source": [
        "#Q11)  Write a code to create a tuple with the elements 100, 200, 300 and print it\n",
        "e=(100,200,300)\n",
        "e\n"
      ],
      "metadata": {
        "colab": {
          "base_uri": "https://localhost:8080/"
        },
        "id": "dki3IQTZ8cLI",
        "outputId": "0d66ea4e-0f5a-4f0a-88f3-65d7a1781625"
      },
      "execution_count": 11,
      "outputs": [
        {
          "output_type": "execute_result",
          "data": {
            "text/plain": [
              "(100, 200, 300)"
            ]
          },
          "metadata": {},
          "execution_count": 11
        }
      ]
    },
    {
      "cell_type": "code",
      "source": [
        "#Q12)  Write a code to access the second-to-last element of the tuple ('red', 'green', 'blue', 'yellow')\n",
        "e=('red','green','blue','yellow')\n",
        "e[-2]\n",
        "e[2]\n"
      ],
      "metadata": {
        "colab": {
          "base_uri": "https://localhost:8080/",
          "height": 35
        },
        "id": "3_bR0_6f8jP8",
        "outputId": "9e95d829-bd00-40fb-97d5-20b6274798f7"
      },
      "execution_count": 12,
      "outputs": [
        {
          "output_type": "execute_result",
          "data": {
            "text/plain": [
              "'blue'"
            ],
            "application/vnd.google.colaboratory.intrinsic+json": {
              "type": "string"
            }
          },
          "metadata": {},
          "execution_count": 12
        }
      ]
    },
    {
      "cell_type": "code",
      "source": [
        "#Q13) Write a code to find the minimum number in the tuple (10, 20, 5, 15).\n",
        "min(10,20,5,15)\n"
      ],
      "metadata": {
        "colab": {
          "base_uri": "https://localhost:8080/"
        },
        "id": "Uny5pTzN8r4y",
        "outputId": "49199d8d-6253-43ee-b081-4a032363ef6f"
      },
      "execution_count": 13,
      "outputs": [
        {
          "output_type": "execute_result",
          "data": {
            "text/plain": [
              "5"
            ]
          },
          "metadata": {},
          "execution_count": 13
        }
      ]
    },
    {
      "cell_type": "code",
      "source": [
        "#Q14)  Write a code to find the index of the element \"cat\" in the tuple ('dog', 'cat', 'rabbit')\n",
        "e=('dog','cat','rabbit')\n",
        "e.index('cat')\n"
      ],
      "metadata": {
        "colab": {
          "base_uri": "https://localhost:8080/"
        },
        "id": "9B5228mw8wfz",
        "outputId": "87c4d579-cba0-490b-e633-d50696b821ae"
      },
      "execution_count": 14,
      "outputs": [
        {
          "output_type": "execute_result",
          "data": {
            "text/plain": [
              "1"
            ]
          },
          "metadata": {},
          "execution_count": 14
        }
      ]
    },
    {
      "cell_type": "code",
      "source": [
        "#Q15) Write a code to create a tuple containing three different fruits and check if \"kiwi\" is in it\n",
        "e=(\"apple\",\"banana\",\"kiwi\")\n",
        "if \"kiwi\" in e:\n",
        "  print(\"True\")\n",
        "else:\n",
        "  print(\"False\")\n"
      ],
      "metadata": {
        "colab": {
          "base_uri": "https://localhost:8080/"
        },
        "id": "kiHykYyX80Wp",
        "outputId": "0aff5027-3b27-4bc8-fd29-d42631362261"
      },
      "execution_count": 15,
      "outputs": [
        {
          "output_type": "stream",
          "name": "stdout",
          "text": [
            "True\n"
          ]
        }
      ]
    },
    {
      "cell_type": "code",
      "source": [
        "#Q16) Write a code to create a set with the elements 'a', 'b', 'c' and print it\n",
        "S={\"a\",\"b\",\"c\"}\n",
        "print(S)\n"
      ],
      "metadata": {
        "colab": {
          "base_uri": "https://localhost:8080/"
        },
        "id": "kE120F0g87ZA",
        "outputId": "f99a93ce-d8a1-4704-e5b9-f81ea5bc46f8"
      },
      "execution_count": 16,
      "outputs": [
        {
          "output_type": "stream",
          "name": "stdout",
          "text": [
            "{'b', 'c', 'a'}\n"
          ]
        }
      ]
    },
    {
      "cell_type": "code",
      "source": [
        "#Q17) Write a code to clear all elements from the set {1, 2, 3, 4, 5}.\n",
        "S={1,2,3,4,5}\n",
        "S.clear()\n",
        "print(S)\n"
      ],
      "metadata": {
        "colab": {
          "base_uri": "https://localhost:8080/"
        },
        "id": "3byxi_oQ9AX1",
        "outputId": "426d1032-2d8b-48ea-9e0a-17e2a7b02f78"
      },
      "execution_count": 18,
      "outputs": [
        {
          "output_type": "stream",
          "name": "stdout",
          "text": [
            "set()\n"
          ]
        }
      ]
    },
    {
      "cell_type": "code",
      "source": [
        "#Q18) Write a code to remove the element 4 from the set {1, 2, 3, 4}\n",
        "S={1,2,3,4}\n",
        "S.remove(4)\n",
        "print(S)\n"
      ],
      "metadata": {
        "colab": {
          "base_uri": "https://localhost:8080/"
        },
        "id": "T6W9Uhzs9GRw",
        "outputId": "6f207de5-02fe-4dad-f3e1-d5b5c7bea0d0"
      },
      "execution_count": 19,
      "outputs": [
        {
          "output_type": "stream",
          "name": "stdout",
          "text": [
            "{1, 2, 3}\n"
          ]
        }
      ]
    },
    {
      "cell_type": "code",
      "source": [
        "#Q19) Write a code to find the union of two sets {1, 2, 3} and {3, 4, 5}\n",
        "S1={1,2,3}\n",
        "S2={3,4,5}\n",
        "S1|S2# Union\n"
      ],
      "metadata": {
        "colab": {
          "base_uri": "https://localhost:8080/"
        },
        "id": "G3gHnl7u9VaV",
        "outputId": "a57205a7-bb70-4f84-98d3-9250396710bd"
      },
      "execution_count": 20,
      "outputs": [
        {
          "output_type": "execute_result",
          "data": {
            "text/plain": [
              "{1, 2, 3, 4, 5}"
            ]
          },
          "metadata": {},
          "execution_count": 20
        }
      ]
    },
    {
      "cell_type": "code",
      "source": [
        "#Q20)  Write a code to find the intersection of two sets {1, 2, 3} and {2, 3, 4}\n",
        "S1={1,2,3}\n",
        "S2={2,3,4}\n",
        "S1&S2# Intersection\n"
      ],
      "metadata": {
        "colab": {
          "base_uri": "https://localhost:8080/"
        },
        "id": "7qO8Xl-Q9ZmM",
        "outputId": "efa77a4c-e34e-4e1e-96be-6c7340f6b42a"
      },
      "execution_count": 21,
      "outputs": [
        {
          "output_type": "execute_result",
          "data": {
            "text/plain": [
              "{2, 3}"
            ]
          },
          "metadata": {},
          "execution_count": 21
        }
      ]
    },
    {
      "cell_type": "code",
      "source": [
        "#Q21)  Write a code to create a dictionary with the keys \"name\", \"age\", and \"city\", and print it\n",
        "d={\"name\":\"Taha\",\"Age\":22,\"City\":\"Kanpur\"}\n",
        "print(d)\n"
      ],
      "metadata": {
        "colab": {
          "base_uri": "https://localhost:8080/"
        },
        "id": "5UOS0yx89dd4",
        "outputId": "fa3ac053-1276-47cc-8bcd-5311cad86b36"
      },
      "execution_count": 22,
      "outputs": [
        {
          "output_type": "stream",
          "name": "stdout",
          "text": [
            "{'name': 'Taha', 'Age': 22, 'City': 'Kanpur'}\n"
          ]
        }
      ]
    },
    {
      "cell_type": "code",
      "source": [
        "#Q22)  Write a code to add a new key-value pair \"country\": \"USA\" to the dictionary {'name': 'John', 'age': 25}\n",
        "d={'name': 'John', 'age': 25}\n",
        "d[\"country\"]=\"USA\"#new value pair add\n",
        "print(d)\n"
      ],
      "metadata": {
        "colab": {
          "base_uri": "https://localhost:8080/"
        },
        "id": "fAtpnBzA9oec",
        "outputId": "5ac073e1-f97c-483b-9233-1e66430796a3"
      },
      "execution_count": 23,
      "outputs": [
        {
          "output_type": "stream",
          "name": "stdout",
          "text": [
            "{'name': 'John', 'age': 25, 'country': 'USA'}\n"
          ]
        }
      ]
    },
    {
      "cell_type": "code",
      "source": [
        "#Q23)  Write a code to access the value associated with the key \"name\" in the dictionary {'name': 'Alice', 'age': 30}\n",
        "d={'name':'Alice','age':30}\n",
        "d['name']\n"
      ],
      "metadata": {
        "colab": {
          "base_uri": "https://localhost:8080/",
          "height": 35
        },
        "id": "xRybPr_h9whO",
        "outputId": "c9ee42b1-2054-46b0-84a0-1c663fb44871"
      },
      "execution_count": 24,
      "outputs": [
        {
          "output_type": "execute_result",
          "data": {
            "text/plain": [
              "'Alice'"
            ],
            "application/vnd.google.colaboratory.intrinsic+json": {
              "type": "string"
            }
          },
          "metadata": {},
          "execution_count": 24
        }
      ]
    },
    {
      "cell_type": "code",
      "source": [
        "#Q24)  Write a code to remove the key \"age\" from the dictionary {'name': 'Bob', 'age': 22, 'city': 'New York'}\n",
        "d={'name': 'Bob', 'age': 22, 'city': 'New York'}\n",
        "del d['age']\n",
        "print(d)\n"
      ],
      "metadata": {
        "colab": {
          "base_uri": "https://localhost:8080/"
        },
        "id": "dsf41oot94BC",
        "outputId": "1c52620a-fc0e-43cb-bb31-861527b1fb9c"
      },
      "execution_count": 25,
      "outputs": [
        {
          "output_type": "stream",
          "name": "stdout",
          "text": [
            "{'name': 'Bob', 'city': 'New York'}\n"
          ]
        }
      ]
    },
    {
      "cell_type": "code",
      "source": [
        "#Q25) Write a code to check if the key \"city\" exists in the dictionary {'name': 'Alice', 'city': 'Paris'}\n",
        "d={'name': 'Alice', 'city': 'Paris'}\n",
        "\"city\" in d\n"
      ],
      "metadata": {
        "colab": {
          "base_uri": "https://localhost:8080/"
        },
        "id": "pENAbdBa99ha",
        "outputId": "da1d9dbd-e34a-4ae0-a096-5d0e88eef813"
      },
      "execution_count": 26,
      "outputs": [
        {
          "output_type": "execute_result",
          "data": {
            "text/plain": [
              "True"
            ]
          },
          "metadata": {},
          "execution_count": 26
        }
      ]
    },
    {
      "cell_type": "code",
      "source": [
        "#Q26) Write a code to create a list, a tuple, and a dictionary, and print them all\n",
        "l=[1,2,3]\n",
        "t=(1,2,3)\n",
        "d={\"name\":\"Taha\",\"Age\":22,\"City\":\"Kanpur\"}\n",
        "print(l,t,d,sep=\"\\n\")\n"
      ],
      "metadata": {
        "colab": {
          "base_uri": "https://localhost:8080/"
        },
        "id": "onHZ7Xv9-CfD",
        "outputId": "b222f3ad-a761-4933-f6b4-3a7cba5473fb"
      },
      "execution_count": 27,
      "outputs": [
        {
          "output_type": "stream",
          "name": "stdout",
          "text": [
            "[1, 2, 3]\n",
            "(1, 2, 3)\n",
            "{'name': 'Taha', 'Age': 22, 'City': 'Kanpur'}\n"
          ]
        }
      ]
    },
    {
      "cell_type": "code",
      "source": [
        "#Q27)Write a code to create a list of 5 random numbers between 1 and 100, sort it in ascending order, and print the\n",
        "##result.(replaced)\n",
        "import random\n",
        "l=[]\n",
        "for i in range(5):\n",
        "  l.append(random.randint(1,100))#randint returns a random(rand) integer(int)\n",
        "l.sort()\n",
        "print(l)\n"
      ],
      "metadata": {
        "colab": {
          "base_uri": "https://localhost:8080/"
        },
        "id": "Sl3JZJNS-Km3",
        "outputId": "5073997a-c56e-40ed-ac3d-236072e7afa2"
      },
      "execution_count": 28,
      "outputs": [
        {
          "output_type": "stream",
          "name": "stdout",
          "text": [
            "[9, 40, 47, 70, 89]\n"
          ]
        }
      ]
    },
    {
      "cell_type": "code",
      "source": [
        "#Q28) Write a code to create a list with strings and print the element at the third index.\n",
        "p=[]\n",
        "for i in range(1,6):\n",
        "  l=str(input(\"Enter a string:\"))\n",
        "  p.append(l)\n",
        "print(p[2])\n"
      ],
      "metadata": {
        "colab": {
          "base_uri": "https://localhost:8080/"
        },
        "id": "PPPDjZCu-VWQ",
        "outputId": "ef623700-6d24-4d23-f97f-3f6b7ae6962f"
      },
      "execution_count": 29,
      "outputs": [
        {
          "output_type": "stream",
          "name": "stdout",
          "text": [
            "Enter a string:red\n",
            "Enter a string:blue\n",
            "Enter a string:yellow\n",
            "Enter a string:green\n",
            "Enter a string:black\n",
            "yellow\n"
          ]
        }
      ]
    },
    {
      "cell_type": "code",
      "source": [
        "#Q29) Write a code to combine two dictionaries into one and print the result\n",
        "d1={\"name\":\"Taha\",\"Age\":22}\n",
        "d2={\"City\":\"Kanpur\",\"Country\":\"India\"}\n",
        "d1.update(d2)\n",
        "print(d1)\n"
      ],
      "metadata": {
        "colab": {
          "base_uri": "https://localhost:8080/"
        },
        "id": "9o8k2yMC-fc6",
        "outputId": "698d468a-7188-4d7f-8f80-94dd38f00cd1"
      },
      "execution_count": 31,
      "outputs": [
        {
          "output_type": "stream",
          "name": "stdout",
          "text": [
            "{'name': 'Taha', 'Age': 22, 'City': 'Kanpur', 'Country': 'India'}\n"
          ]
        }
      ]
    },
    {
      "cell_type": "code",
      "source": [
        "#Q30) Write a code to convert a list of strings into a set.\n",
        "set(p) #p is defined in Q28\n"
      ],
      "metadata": {
        "colab": {
          "base_uri": "https://localhost:8080/"
        },
        "id": "EWOuNuK2-uvA",
        "outputId": "2d857cee-cb30-485d-bd4f-8704c9b6b3c0"
      },
      "execution_count": 32,
      "outputs": [
        {
          "output_type": "execute_result",
          "data": {
            "text/plain": [
              "{'black', 'blue', 'green', 'red', 'yellow'}"
            ]
          },
          "metadata": {},
          "execution_count": 32
        }
      ]
    }
  ]
}